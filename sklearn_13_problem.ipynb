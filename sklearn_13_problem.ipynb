{
 "cells": [
  {
   "cell_type": "code",
   "execution_count": null,
   "id": "1946fa05-ddab-4935-98fb-5b1154ea357b",
   "metadata": {},
   "outputs": [],
   "source": [
    "'''As a tail busuness owner ,you want to understand and categorize your customers into distinct segments based on their purchasing behaviour . This segmentation will help tailor marketing strategies and promotions to diffirent customer groups\n",
    ",ultimetly maximizing sales and customer satisfaction'''\n",
    "\n",
    "# soluton using Gaussian Mixture Models(GMM)"
   ]
  },
  {
   "cell_type": "code",
   "execution_count": null,
   "id": "96dafacc-9c41-41d9-bec7-742b8654a282",
   "metadata": {},
   "outputs": [],
   "source": [
    "import pandas as pd\n",
    "import numpy as np\n",
    "import matplotlib.pyplot as plt\n",
    "from sklearn.mixture import GaussianMixture\n",
    "from sklearn.preprocessing import StandardScaler"
   ]
  },
  {
   "cell_type": "code",
   "execution_count": null,
   "id": "0a444fd2-af1e-419b-8aa1-b7bfa2ce6672",
   "metadata": {},
   "outputs": [],
   "source": [
    "# Data set\n",
    "np.random.seed(42)\n",
    "segment1 = np.random.normal(loc =30,scale=5,size=100)  # scale mean standard deviation\n",
    "segment2 = np.random.normal(loc =60,scale=10,size=150)  # scale mean standard deviation\n",
    "segment3 = np.random.normal(loc =90,scale=12,size=120)  # scale mean standard deviation\n",
    "data = np.concatenate([segment1,segment2,segment3]).reshape(-1,1)\n",
    "data"
   ]
  },
  {
   "cell_type": "code",
   "execution_count": null,
   "id": "a9c8852d-caf9-4ae8-befe-4a9103e8b7a4",
   "metadata": {},
   "outputs": [],
   "source": [
    "scaler =StandardScaler()\n",
    "data_scaled = scaler.fit_transform(data)"
   ]
  },
  {
   "cell_type": "code",
   "execution_count": null,
   "id": "06a2610a-bd6a-443d-b03b-bd8567bc0c3c",
   "metadata": {},
   "outputs": [],
   "source": [
    "n_components = 3\n",
    "gmm= GaussianMixture(n_components = n_components, random_state=42)\n",
    "gmm.fit(data_scaled)"
   ]
  },
  {
   "cell_type": "code",
   "execution_count": null,
   "id": "9ccf6e52-7576-4884-b29d-60278081c5c8",
   "metadata": {},
   "outputs": [],
   "source": [
    "# Prediction\n",
    "cluster_labels=gmm.predict(data_scaled)"
   ]
  },
  {
   "cell_type": "code",
   "execution_count": null,
   "id": "5ef7f126-3c2a-4101-a319-8d1e03707c28",
   "metadata": {},
   "outputs": [],
   "source": [
    "# Visulization\n",
    "plt.scatter(data,np.zeros_like(data),c= cluster_labels, cmap='viridis')\n",
    "plt.title('Cluster segmentation')\n",
    "plt.xlabel('Purchase Amount')\n",
    "plt.show()"
   ]
  },
  {
   "cell_type": "code",
   "execution_count": null,
   "id": "1e2e17d6-37dd-4509-8f9e-76656ccbda4b",
   "metadata": {},
   "outputs": [],
   "source": [
    "# user testing \n",
    "user_input = float(input(\"Enter a purchase amount to predict the customer segment : \"))\n",
    "user_input_scaled = scaler.transform(np.array([[user_input]]))\n",
    "predicted_label = gmm.predict(user_input_scaled.reshape(-1,1))[0]\n",
    "print(f\"The prdicted customer segment a purchase amount of {user_input} is :{predicted_label + 1}\")"
   ]
  },
  {
   "cell_type": "code",
   "execution_count": null,
   "id": "564d52ac-3850-421b-aa3f-c4cd2b8ca58f",
   "metadata": {},
   "outputs": [],
   "source": []
  }
 ],
 "metadata": {
  "kernelspec": {
   "display_name": "Python 3 (ipykernel)",
   "language": "python",
   "name": "python3"
  },
  "language_info": {
   "codemirror_mode": {
    "name": "ipython",
    "version": 3
   },
   "file_extension": ".py",
   "mimetype": "text/x-python",
   "name": "python",
   "nbconvert_exporter": "python",
   "pygments_lexer": "ipython3",
   "version": "3.12.3"
  }
 },
 "nbformat": 4,
 "nbformat_minor": 5
}
