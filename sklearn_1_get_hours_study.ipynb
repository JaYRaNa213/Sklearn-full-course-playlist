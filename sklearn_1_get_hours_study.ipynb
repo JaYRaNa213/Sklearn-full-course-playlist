{
 "cells": [
  {
   "cell_type": "code",
   "execution_count": null,
   "id": "b4690ef1-0abc-4cfe-a6ae-8744a11ad848",
   "metadata": {},
   "outputs": [],
   "source": [
    "# step 1\n",
    "import numpy as np\n",
    "import pandas as pd\n",
    "from sklearn.model_selection import train_test_split\n",
    "from sklearn.linear_model import LinearRegression\n"
   ]
  },
  {
   "cell_type": "code",
   "execution_count": null,
   "id": "3c43d688-1c45-4661-b995-759d783d19ab",
   "metadata": {},
   "outputs": [],
   "source": [
    "# step 2\n",
    "Data={'Hour_study':[1,2,3,4,5,6,7,8,9,10],'Exam_score':[50,60,65,70,75,80,90,91,95,100]}# coloun called features in our lang"
   ]
  },
  {
   "cell_type": "code",
   "execution_count": null,
   "id": "d279d080-4574-44c4-b0c4-661bad8fd4e6",
   "metadata": {},
   "outputs": [],
   "source": [
    "# step 3\n",
    "df=pd.DataFrame(Data)\n",
    "print(df)"
   ]
  },
  {
   "cell_type": "code",
   "execution_count": null,
   "id": "fb53f7a8-215f-4df4-b9d7-527869218dc5",
   "metadata": {},
   "outputs": [],
   "source": [
    "# step 4\n",
    "X = df[['Hour_study']]\n",
    "Y= df[['Exam_score']]\n",
    "\n",
    "# data = data.rename(columns={'Number ': 'Number'}) ## for change the columns name"
   ]
  },
  {
   "cell_type": "code",
   "execution_count": null,
   "id": "304d5dae-381d-402b-85d8-b47846472513",
   "metadata": {},
   "outputs": [],
   "source": [
    "# step 5\n",
    "X_train,X_test,Y_train,Y_test = train_test_split(X,Y,test_size=.20,random_state=42)"
   ]
  },
  {
   "cell_type": "code",
   "execution_count": null,
   "id": "9fa2a488-ad1d-4f54-93f7-a726dffa1ee2",
   "metadata": {},
   "outputs": [],
   "source": [
    "# step 6\n",
    "model = LinearRegression() # for calli as model"
   ]
  },
  {
   "cell_type": "code",
   "execution_count": null,
   "id": "aaacab07-b08e-4825-a521-fe0108ea3474",
   "metadata": {},
   "outputs": [],
   "source": [
    "# step 7\n",
    "model.fit(X_train,Y_train)\n",
    "\n"
   ]
  },
  {
   "cell_type": "code",
   "execution_count": 10,
   "id": "2f8fa3b4-0916-49f9-910c-53c2b127afa7",
   "metadata": {
    "jp-MarkdownHeadingCollapsed": true
   },
   "outputs": [
    {
     "name": "stdin",
     "output_type": "stream",
     "text": [
      "Enter the number of hours of study :  4\n"
     ]
    },
    {
     "name": "stdout",
     "output_type": "stream",
     "text": [
      " predicted exam score :  [[69.28448276]]\n"
     ]
    },
    {
     "name": "stderr",
     "output_type": "stream",
     "text": [
      "C:\\Users\\vsran\\AppData\\Local\\Programs\\Python\\Python312\\Lib\\site-packages\\sklearn\\base.py:493: UserWarning: X does not have valid feature names, but LinearRegression was fitted with feature names\n",
      "  warnings.warn(\n"
     ]
    }
   ],
   "source": [
    "#step 8\n",
    "#user input testing\n",
    "user_input=float(input(\"Enter the number of hours of study : \"))\n",
    "\n",
    "#step 9\n",
    "\n",
    "predicted_score=model.predict([[user_input]])\n",
    "\n",
    "#step 10\n",
    "\n",
    "\n",
    "print(f\" predicted exam score : \",predicted_score)\n",
    "\n",
    "\n"
   ]
  },
  {
   "cell_type": "code",
   "execution_count": null,
   "id": "d48f4052-5176-4899-81ba-721268e59029",
   "metadata": {},
   "outputs": [],
   "source": []
  }
 ],
 "metadata": {
  "kernelspec": {
   "display_name": "Python 3 (ipykernel)",
   "language": "python",
   "name": "python3"
  },
  "language_info": {
   "codemirror_mode": {
    "name": "ipython",
    "version": 3
   },
   "file_extension": ".py",
   "mimetype": "text/x-python",
   "name": "python",
   "nbconvert_exporter": "python",
   "pygments_lexer": "ipython3",
   "version": "3.12.3"
  }
 },
 "nbformat": 4,
 "nbformat_minor": 5
}
