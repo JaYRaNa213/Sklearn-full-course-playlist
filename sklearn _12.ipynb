{
 "cells": [
  {
   "cell_type": "code",
   "execution_count": null,
   "id": "b436812a-23fe-4656-9cb1-d37110aa4d8b",
   "metadata": {},
   "outputs": [],
   "source": [
    "# problem \n",
    "''' imagine you are working for an e-coomerce company ,and the marketing team wants to target customers more effectively by creating segments \n",
    "based on their purchasing behaviour.However ,tradional segmentation methods are not providing satisfactory result.'''\n",
    "# solution ; (DENSITY BASED SPATIAL CLUSTERING OF APPLICATION WITH NOISE)\n",
    "# USE DBSCAN TO IDENTIFY CLUSTER OF CUSTOMERS WITH SIMILAR PURCHASING PATTERNS."
   ]
  },
  {
   "cell_type": "code",
   "execution_count": null,
   "id": "e6ee47af-3549-4a94-ba38-88316ef110ff",
   "metadata": {},
   "outputs": [],
   "source": [
    "import numpy as np\n",
    "import pandas as pd\n",
    "import matplotlib.pyplot as plt\n",
    "from sklearn.preprocessing import StandardScaler\n",
    "from sklearn.cluster import DBSCAN\n"
   ]
  },
  {
   "cell_type": "code",
   "execution_count": null,
   "id": "e70219ab-2640-4f52-abcc-2cd736b889c6",
   "metadata": {},
   "outputs": [],
   "source": [
    "np.random.seed(42)\n",
    "data = np.random.rand(100,2)  # here 100 rows and 2 columns\n",
    "data"
   ]
  },
  {
   "cell_type": "code",
   "execution_count": null,
   "id": "59a10c8f-096c-42a7-a4b5-e8a2385a59bb",
   "metadata": {},
   "outputs": [],
   "source": [
    "scaler = StandardScaler()\n",
    "data_scaled = scaler.fit_transform(data)"
   ]
  },
  {
   "cell_type": "code",
   "execution_count": null,
   "id": "078710fc-68a7-4c11-89ec-44a3a286b86f",
   "metadata": {},
   "outputs": [],
   "source": [
    "# apply DBSCAN \n",
    "dbscan_model = DBSCAN(eps=0.3,min_samples=5) # pick data or paramter from dbscan lib , sample mean 5 color in digram\n",
    "clusters=dbscan_model.fit_predict(data_scaled)"
   ]
  },
  {
   "cell_type": "code",
   "execution_count": null,
   "id": "93cbff03-3ffb-49a8-970c-cbd57d27f087",
   "metadata": {},
   "outputs": [],
   "source": [
    "plt.scatter(data[:,0],data[:,1],c=clusters,cmap ='viridis',marker='*',s=50) # s-  size of marker ,virdis for different color\n",
    "plt.title('DBSCAN clustring')\n",
    "plt.xlabel(\"Feature 1\")\n",
    "plt.ylabel(\"Feature 2\")\n",
    "plt.show()"
   ]
  },
  {
   "cell_type": "code",
   "execution_count": null,
   "id": "4e2174ad-cf36-447a-9edf-183e6b925ac0",
   "metadata": {},
   "outputs": [],
   "source": [
    "result_data =pd.DataFrame({'Feature 1':data[:,0],'Feature 2':data[:,1],'cluster':clusters})\n",
    "print(\"Number of clusters: \",len(np.unique(clusters)))\n",
    "print(\"Size of each cluster :\")\n",
    "print(result_data['cluster'].value_counts())"
   ]
  },
  {
   "cell_type": "code",
   "execution_count": null,
   "id": "255e2b8b-fd34-40c0-aeee-95bd25a6bf7d",
   "metadata": {},
   "outputs": [],
   "source": [
    "# model testing user input \n",
    "user_input = np.array([[0.6,0.7]])\n",
    "user_input_scaled = scaler.transform(user_input)\n",
    "user_cluster = dbscan_model.fit_predict(user_input_scaled)\n",
    "print(\"user input belongs to cluster : \",user_cluster[0])"
   ]
  },
  {
   "cell_type": "code",
   "execution_count": null,
   "id": "2421ecba-4ad7-4040-9014-82a0a25ef5cd",
   "metadata": {},
   "outputs": [],
   "source": []
  },
  {
   "cell_type": "code",
   "execution_count": null,
   "id": "1ca823b4-4f69-4ef1-88c3-1a9544f930c0",
   "metadata": {},
   "outputs": [],
   "source": []
  }
 ],
 "metadata": {
  "kernelspec": {
   "display_name": "Python 3 (ipykernel)",
   "language": "python",
   "name": "python3"
  },
  "language_info": {
   "codemirror_mode": {
    "name": "ipython",
    "version": 3
   },
   "file_extension": ".py",
   "mimetype": "text/x-python",
   "name": "python",
   "nbconvert_exporter": "python",
   "pygments_lexer": "ipython3",
   "version": "3.12.3"
  }
 },
 "nbformat": 4,
 "nbformat_minor": 5
}
