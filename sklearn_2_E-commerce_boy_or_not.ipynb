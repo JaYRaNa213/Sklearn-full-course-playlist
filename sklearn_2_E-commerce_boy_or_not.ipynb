{
 "cells": [
  {
   "cell_type": "code",
   "execution_count": 1,
   "id": "d964faa4-2481-46de-9833-d8cdcd19d762",
   "metadata": {},
   "outputs": [
    {
     "data": {
      "text/plain": [
       "'in an e-commerce company, the management wants to predict whether a customer will purchase a high value product \\n based on their age ,time spent on the website ,and whether they have added items to their cart. the goal is to optimize \\n marketing strategies by targeting potential customers more effectively ,there increasing sales and revenue . '"
      ]
     },
     "execution_count": 1,
     "metadata": {},
     "output_type": "execute_result"
    }
   ],
   "source": [
    "# Problem 2\n",
    "'''in an e-commerce company, the management wants to predict whether a customer will purchase a high value product \n",
    " based on their age ,time spent on the website ,and whether they have added items to their cart. the goal is to optimize \n",
    " marketing strategies by targeting potential customers more effectively ,there increasing sales and revenue . '''"
   ]
  },
  {
   "cell_type": "code",
   "execution_count": 2,
   "id": "2bdab7bb-2ab7-4e17-9be8-92d42575c697",
   "metadata": {},
   "outputs": [],
   "source": [
    "import pandas as pd\n",
    "import numpy as np\n",
    "from sklearn.model_selection import train_test_split\n",
    "from sklearn.linear_model import LogisticRegression"
   ]
  },
  {
   "cell_type": "code",
   "execution_count": 3,
   "id": "05d4e77e-9215-4515-85cf-e4ef9d60a87e",
   "metadata": {},
   "outputs": [],
   "source": [
    "X= np.array([[25,30,0],[30,40,1],[20,35,0],[32,46,1]]) # [age,time_spend,add_cart or not)\n",
    "Y=np.array([0,1,0,1])\n",
    "X_train,X_test,Y_train,Y_test= train_test_split(X,Y,test_size = .2, random_state=42)"
   ]
  },
  {
   "cell_type": "code",
   "execution_count": 4,
   "id": "f3c73dd9-8ab8-4dab-b071-99124a1941b9",
   "metadata": {},
   "outputs": [
    {
     "name": "stdout",
     "output_type": "stream",
     "text": [
      "[[25 30  0]\n",
      " [30 40  1]\n",
      " [20 35  0]\n",
      " [32 46  1]]\n"
     ]
    }
   ],
   "source": [
    "print(X)"
   ]
  },
  {
   "cell_type": "code",
   "execution_count": 5,
   "id": "ee0b3cba-b752-4b33-9b6f-518ea998cce9",
   "metadata": {},
   "outputs": [
    {
     "name": "stdout",
     "output_type": "stream",
     "text": [
      "Model accuracy : 1.0\n"
     ]
    }
   ],
   "source": [
    "model=LogisticRegression()\n",
    "model.fit(X_train,Y_train)\n",
    "accuracy= model.score(X_test,Y_test)\n",
    "print(f'Model accuracy : {accuracy}')"
   ]
  },
  {
   "cell_type": "code",
   "execution_count": null,
   "id": "ea736b3c-856f-4605-8245-225f67615b1d",
   "metadata": {},
   "outputs": [],
   "source": [
    "user_age= float(input(\"Enter your custumer age: \"))\n",
    "user_time_spent=float(input(\"Enter the time spent on website :\"))\n",
    "user_added_to_cart=int(input(\"Enter 1 if added to cart other wise \\n enter 0 :\"))\n",
    "user_data = np.array([[user_age,user_time_spent,user_added_to_cart ]])\n",
    "prediction = model.predict(user_data)\n",
    "if prediction[0] == 1:\n",
    "    print(\"The customer is likely to purchase\")\n",
    "else:\n",
    "    print(\"The customer not likely to purchase\")\n",
    "    \n"
   ]
  },
  {
   "cell_type": "code",
   "execution_count": null,
   "id": "e17c4767-ce0f-4722-b983-2c441fb5e7cd",
   "metadata": {},
   "outputs": [],
   "source": []
  },
  {
   "cell_type": "code",
   "execution_count": null,
   "id": "02b80e9c-0cfa-49b8-9da3-d79f195e2abc",
   "metadata": {},
   "outputs": [],
   "source": []
  },
  {
   "cell_type": "code",
   "execution_count": null,
   "id": "e693ec0a-5a6f-4c41-af14-db7ee3b4e51e",
   "metadata": {},
   "outputs": [],
   "source": []
  }
 ],
 "metadata": {
  "kernelspec": {
   "display_name": "Python 3 (ipykernel)",
   "language": "python",
   "name": "python3"
  },
  "language_info": {
   "codemirror_mode": {
    "name": "ipython",
    "version": 3
   },
   "file_extension": ".py",
   "mimetype": "text/x-python",
   "name": "python",
   "nbconvert_exporter": "python",
   "pygments_lexer": "ipython3",
   "version": "3.12.3"
  }
 },
 "nbformat": 4,
 "nbformat_minor": 5
}
